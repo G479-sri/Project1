{
 "cells": [
  {
   "cell_type": "code",
   "execution_count": 6,
   "id": "7a15e081",
   "metadata": {},
   "outputs": [
    {
     "data": {
      "text/plain": [
       "<sqlite3.Cursor at 0x260a10ad180>"
      ]
     },
     "execution_count": 6,
     "metadata": {},
     "output_type": "execute_result"
    }
   ],
   "source": [
    "import sqlite3\n",
    "\n",
    "from tkinter import *\n",
    "from tkinter import Tk\n",
    "import tkinter.ttk as ttk\n",
    "import tkinter.messagebox as mb\n",
    "import tkinter.simpledialog as sd\n",
    "\n",
    "conn = sqlite3.connect('library.db')\n",
    "cur = conn.cursor()\n",
    "\n",
    "conn.execute(\n",
    "    'CREATE TABLE IF NOT EXISTS Library (book_Title TEXT, book_Author TEXT PRIMARY KEY NOT NULL,  book_Year INT, ISBN INT)'\n",
    ")\n",
    "#"
   ]
  },
  {
   "cell_type": "code",
   "execution_count": 7,
   "id": "372131cb",
   "metadata": {},
   "outputs": [],
   "source": [
    "window = Tk()\n",
    "window.title(\".....Library Management Application.....\")\n",
    "window.minsize(width=400, height=400)\n",
    "window.geometry(\"1000x500\") \n",
    "#Adding buttons........\n",
    "#Add the buttons\n",
    "btn1 = Button(window, text=\"DISPLAY Book Details\", bg=\"black\", fg=\"white\", command=display)\n",
    "btn1.place(relx=0.28, rely=0.4, relwidth=0.45, relheight=0.1)\n",
    "\n",
    "\n",
    "\n",
    "btn6 = Button(window, text=\"EXIT \", bg=\"black\", fg=\"white\", command=exit)\n",
    "btn6.place(relx=0.28, rely=0.8, relwidth=0.45, relheight=0.1)\n",
    "\n",
    "window.mainloop() #call the mainloop to run the application"
   ]
  },
  {
   "cell_type": "code",
   "execution_count": null,
   "id": "07b35477",
   "metadata": {},
   "outputs": [],
   "source": [
    "btn2 = Button(root, text=\"SEARCH \", bg=\"black\", fg=\"white\", command=Search)\n",
    "btn2.place(relx=0.28, rely=0.5, relwidth=0.45, relheight=0.1)\n",
    "\n",
    "btn3 = Button(root, text=\"ADD \", bg=\"black\", fg=\"white\", command=add)\n",
    "btn3.place(relx=0.28, rely=0.6, relwidth=0.45, relheight=0.1)\n",
    "\n",
    "btn4 = Button(root, text=\"Issue\", bg=\"black\", fg=\"white\", command=issueBook)\n",
    "btn4.place(relx=0.28, rely=0.7, relwidth=0.45, relheight=0.1)\n"
   ]
  },
  {
   "cell_type": "code",
   "execution_count": null,
   "id": "0f6cb130",
   "metadata": {},
   "outputs": [],
   "source": []
  },
  {
   "cell_type": "code",
   "execution_count": null,
   "id": "79646283",
   "metadata": {},
   "outputs": [],
   "source": []
  },
  {
   "cell_type": "code",
   "execution_count": null,
   "id": "cbb57ce0",
   "metadata": {},
   "outputs": [],
   "source": []
  },
  {
   "cell_type": "code",
   "execution_count": null,
   "id": "9d64c35c",
   "metadata": {},
   "outputs": [],
   "source": []
  },
  {
   "cell_type": "code",
   "execution_count": null,
   "id": "c14c2d08",
   "metadata": {},
   "outputs": [],
   "source": []
  },
  {
   "cell_type": "code",
   "execution_count": null,
   "id": "0d90029c",
   "metadata": {},
   "outputs": [],
   "source": []
  },
  {
   "cell_type": "code",
   "execution_count": null,
   "id": "e475871a",
   "metadata": {},
   "outputs": [],
   "source": []
  },
  {
   "cell_type": "code",
   "execution_count": null,
   "id": "57c829b9",
   "metadata": {},
   "outputs": [],
   "source": []
  },
  {
   "cell_type": "code",
   "execution_count": null,
   "id": "54449b70",
   "metadata": {},
   "outputs": [],
   "source": []
  }
 ],
 "metadata": {
  "kernelspec": {
   "display_name": "Python 3 (ipykernel)",
   "language": "python",
   "name": "python3"
  },
  "language_info": {
   "codemirror_mode": {
    "name": "ipython",
    "version": 3
   },
   "file_extension": ".py",
   "mimetype": "text/x-python",
   "name": "python",
   "nbconvert_exporter": "python",
   "pygments_lexer": "ipython3",
   "version": "3.9.12"
  }
 },
 "nbformat": 4,
 "nbformat_minor": 5
}
